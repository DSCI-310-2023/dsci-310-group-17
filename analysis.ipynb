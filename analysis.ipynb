{
 "cells": [
  {
   "cell_type": "markdown",
   "id": "328d00bd-60eb-42dd-b08d-f7d16f1d0037",
   "metadata": {},
   "source": [
    "# Hyperthyroid Disease Classification\n",
    "### Group 17: Matthew Gillies, Ryan Lee, Eric Liu, Arman Moztarzadeh"
   ]
  },
  {
   "cell_type": "markdown",
   "id": "9d511f03-552b-464e-838e-a72bd067a116",
   "metadata": {},
   "source": [
    "## Summary\n",
    "In this report, we trained a classifier to predict the presence of hyperthyroidism using varying attributes such as age, sex, prior treatment for thyroid disease, and amount of thyroid hormones in the body. Our classifier has a 98% accuracy rate on the test set."
   ]
  },
  {
   "cell_type": "markdown",
   "id": "a35592c0-f562-4b19-9a16-990fbbf81db3",
   "metadata": {},
   "source": [
    "## Introduction\n",
    "The **Thyroid Disease dataset** obtained from the **UCI Machine Learning Repository** will be used to predict the presence of hyperthyroidism. Hyperthyroidism is an issue that occurs when the thyroid gland produces an excess amount of thyroid hormones (De Leo et al., 2016). As a result, the body's metabolism greatly \"speeds up\", resulting in weight loss, rapid heartbeat, fatigue, shaky hands, sweating, and more (U.S. Department of Health and Human Services, n.d.). \n",
    "<br>\n",
    "Studies have shown that within the population, certain groups are more predisposed to getting hyperthyroidism. Hyperthyroidism is more common in women, women who were recently pregnant, those with type 1 or type 2 diabetes, alongside other factors (Allahabadia, 2000). In order to help predict whether someone has hyperthyroidism, we are using 19 attributes provided from the Thyroid Disease dataset. The attributes we are using are age, sex, if they take medication for thyroid disease (thyroxine or antithyroid medication), pregnant status, prior treatment for thyroid disease (thyroid surgery or Ii131 radiotherapy for hyperthyroidism), and amount of different hormones in the body (TSH, TT4, T4U, and FTI). **With these factors, we are hoping to make an accurate classifier in to predict whether or not someone has hyperthyroidism.**"
   ]
  },
  {
   "cell_type": "markdown",
   "id": "febf970d-9be5-461b-8540-446ed654fd71",
   "metadata": {},
   "source": [
    "## Methods and Results"
   ]
  },
  {
   "cell_type": "markdown",
   "id": "1d22a1a0-3ee8-4448-9c97-3a9fbdb540e7",
   "metadata": {},
   "source": [
    "### Data-Cleaning\n",
    "To begin this analysis we read in the data from the original source, merging **solely** for pre-processing. The `binaryClass` feature is manipulated so that all values are either positive or negative, removing all other diagnoses. Next, we replace all `?` values with `NaN` values, and removed all columns that were irrelevant to our classification model or had an extremely large amount of `NaN` values. We then remove all of the remaining rows with NA values from the data set. Since all of the columns are of datatype `Object`, they are converted to their respective data-types (either numeric or categorical). Following this we converted the `binaryClass` column from character values (\"P\" and \"N\") to the reverse in boolean integer values (\"0\" and \"1\" respectively) to match the classification model. In this data set positive labels actually represented a negative diagnosis.\n",
    "### Exploratory Data Analysis\n",
    "After data-cleaning we preformed exploratory data analysis (EDA) through summary statistics, correlations of numeric features, and value counts for the entire data set. \n",
    "### Model Training\n",
    "We split the data into training and testing set with a 70/30 split, while also separating the `binaryClass` feature (**target**) from the rest of the data set. Following this a `ColumnTransformer` was created to scale all numeric variables and one-hot-encode all categorical variables to ensure they are in a state that the model can process. The `ColumnTransformer` was then fitted and transformed on the training set, along with transforming the test set. We then performed cross-validation with a LogisticRegression model on the training data, which returned an average validation score of 98%. Applying the model again to the full training set, we again produced a 98% accuracy score. Furthermote, we visualized the training predictions with `TSH` and `TT4` concentrations on the x and y axes respectively. Finally, **The model was applied to the test set, which produced a 99% accuracy**. Another plot visualizing the class predictions were created along with a confusion matrix to realize the impact of the predictions. From the confusion matrix we can see that most of our incorrect predictions are false negatives, which are not preferable as an incorrect positive disease diagnose would have less consequential impact than an incorrectly predicting some as disease free."
   ]
  },
  {
   "cell_type": "markdown",
   "id": "b6687866-90f3-46d5-9e70-d1b7ae895d2c",
   "metadata": {},
   "source": [
    "## Imports"
   ]
  },
  {
   "cell_type": "code",
   "execution_count": 32,
   "id": "428b8324-d1c7-4372-9938-b83b0b440eb7",
   "metadata": {
    "tags": []
   },
   "outputs": [],
   "source": [
    "import os\n",
    "import numpy as np\n",
    "import pandas as pd\n",
    "import matplotlib.pyplot as plt\n",
    "from sklearn.model_selection import train_test_split, cross_validate\n",
    "from sklearn.linear_model import LogisticRegression\n",
    "from sklearn.compose import make_column_transformer\n",
    "from sklearn.preprocessing import OneHotEncoder, StandardScaler\n",
    "from sklearn.metrics import accuracy_score, confusion_matrix, ConfusionMatrixDisplay\n",
    "from sklearn.pipeline import make_pipeline\n",
    "\n",
    "\n",
    "# Function Imports (4 Functions)\n",
    "from src.clean_data import relabel_bclass, col_dtype_reformat\n",
    "from src.analysis_visualizations import visualize_classification\n",
    "from src.eda import plot_correlations\n",
    "\n",
    "import warnings\n",
    "warnings.filterwarnings('ignore')"
   ]
  },
  {
   "cell_type": "markdown",
   "id": "f9289b69-2d47-4796-991c-89064701a1cc",
   "metadata": {},
   "source": [
    "## Data-Cleaning"
   ]
  },
  {
   "cell_type": "code",
   "execution_count": 2,
   "id": "2881ebd1-d19f-4e81-9f6f-047e6ec7a6a2",
   "metadata": {},
   "outputs": [],
   "source": [
    "if not os.path.exists(\"data\"):\n",
    "    os.makedirs(\"data\")\n",
    "path1 = 'http://archive.ics.uci.edu/ml/machine-learning-databases/thyroid-disease/allhyper.data'\n",
    "path2 = 'http://archive.ics.uci.edu/ml/machine-learning-databases/thyroid-disease/allhyper.test'\n",
    "columnNames = [\"age\", \"sex\", \"on thyroxine\", \"query on thyroxine\",\n",
    "               \"on antithyroid medication\", \"sick\", \"pregnant\",\n",
    "               \"thyroid surgery\", \"I131 treatment\", \"query hypothyroid\",\n",
    "               \"query hyperthyroid\", \"lithium\", \"goitre\", \"tumor\",\n",
    "               \"hypopituitary\", \"psych\", \"TSH measured\", \"TSH\", \"T3 measured\",\n",
    "               \"T3\", \"TT4 measured\", \"TT4\", \"T4U measured\", \"T4U\",\n",
    "               \"FTI measured\", \"FTI\", \"TBG measured\", \"TBG\", \"referral source\",\n",
    "               \"binaryClass\"]\n",
    "dfData = pd.read_csv(path1, names=columnNames)\n",
    "dfTest = pd.read_csv(path2, names=columnNames)\n",
    "hyperthyroid_df = pd.concat([dfData, dfTest])"
   ]
  },
  {
   "cell_type": "code",
   "execution_count": 3,
   "id": "8b1393f7-bcf4-48f0-8737-08ea349cc38e",
   "metadata": {},
   "outputs": [
    {
     "data": {
      "text/html": [
       "<div>\n",
       "<style scoped>\n",
       "    .dataframe tbody tr th:only-of-type {\n",
       "        vertical-align: middle;\n",
       "    }\n",
       "\n",
       "    .dataframe tbody tr th {\n",
       "        vertical-align: top;\n",
       "    }\n",
       "\n",
       "    .dataframe thead th {\n",
       "        text-align: right;\n",
       "    }\n",
       "</style>\n",
       "<table border=\"1\" class=\"dataframe\">\n",
       "  <thead>\n",
       "    <tr style=\"text-align: right;\">\n",
       "      <th></th>\n",
       "      <th>age</th>\n",
       "      <th>sex</th>\n",
       "      <th>on thyroxine</th>\n",
       "      <th>query on thyroxine</th>\n",
       "      <th>on antithyroid medication</th>\n",
       "      <th>sick</th>\n",
       "      <th>pregnant</th>\n",
       "      <th>thyroid surgery</th>\n",
       "      <th>I131 treatment</th>\n",
       "      <th>query hypothyroid</th>\n",
       "      <th>...</th>\n",
       "      <th>TT4 measured</th>\n",
       "      <th>TT4</th>\n",
       "      <th>T4U measured</th>\n",
       "      <th>T4U</th>\n",
       "      <th>FTI measured</th>\n",
       "      <th>FTI</th>\n",
       "      <th>TBG measured</th>\n",
       "      <th>TBG</th>\n",
       "      <th>referral source</th>\n",
       "      <th>binaryClass</th>\n",
       "    </tr>\n",
       "  </thead>\n",
       "  <tbody>\n",
       "    <tr>\n",
       "      <th>0</th>\n",
       "      <td>41</td>\n",
       "      <td>F</td>\n",
       "      <td>f</td>\n",
       "      <td>f</td>\n",
       "      <td>f</td>\n",
       "      <td>f</td>\n",
       "      <td>f</td>\n",
       "      <td>f</td>\n",
       "      <td>f</td>\n",
       "      <td>f</td>\n",
       "      <td>...</td>\n",
       "      <td>t</td>\n",
       "      <td>125</td>\n",
       "      <td>t</td>\n",
       "      <td>1.14</td>\n",
       "      <td>t</td>\n",
       "      <td>109</td>\n",
       "      <td>f</td>\n",
       "      <td>?</td>\n",
       "      <td>SVHC</td>\n",
       "      <td>negative.|3733</td>\n",
       "    </tr>\n",
       "    <tr>\n",
       "      <th>1</th>\n",
       "      <td>23</td>\n",
       "      <td>F</td>\n",
       "      <td>f</td>\n",
       "      <td>f</td>\n",
       "      <td>f</td>\n",
       "      <td>f</td>\n",
       "      <td>f</td>\n",
       "      <td>f</td>\n",
       "      <td>f</td>\n",
       "      <td>f</td>\n",
       "      <td>...</td>\n",
       "      <td>t</td>\n",
       "      <td>102</td>\n",
       "      <td>f</td>\n",
       "      <td>?</td>\n",
       "      <td>f</td>\n",
       "      <td>?</td>\n",
       "      <td>f</td>\n",
       "      <td>?</td>\n",
       "      <td>other</td>\n",
       "      <td>negative.|1442</td>\n",
       "    </tr>\n",
       "    <tr>\n",
       "      <th>2</th>\n",
       "      <td>46</td>\n",
       "      <td>M</td>\n",
       "      <td>f</td>\n",
       "      <td>f</td>\n",
       "      <td>f</td>\n",
       "      <td>f</td>\n",
       "      <td>f</td>\n",
       "      <td>f</td>\n",
       "      <td>f</td>\n",
       "      <td>f</td>\n",
       "      <td>...</td>\n",
       "      <td>t</td>\n",
       "      <td>109</td>\n",
       "      <td>t</td>\n",
       "      <td>0.91</td>\n",
       "      <td>t</td>\n",
       "      <td>120</td>\n",
       "      <td>f</td>\n",
       "      <td>?</td>\n",
       "      <td>other</td>\n",
       "      <td>negative.|2965</td>\n",
       "    </tr>\n",
       "    <tr>\n",
       "      <th>3</th>\n",
       "      <td>70</td>\n",
       "      <td>F</td>\n",
       "      <td>t</td>\n",
       "      <td>f</td>\n",
       "      <td>f</td>\n",
       "      <td>f</td>\n",
       "      <td>f</td>\n",
       "      <td>f</td>\n",
       "      <td>f</td>\n",
       "      <td>f</td>\n",
       "      <td>...</td>\n",
       "      <td>t</td>\n",
       "      <td>175</td>\n",
       "      <td>f</td>\n",
       "      <td>?</td>\n",
       "      <td>f</td>\n",
       "      <td>?</td>\n",
       "      <td>f</td>\n",
       "      <td>?</td>\n",
       "      <td>other</td>\n",
       "      <td>negative.|806</td>\n",
       "    </tr>\n",
       "    <tr>\n",
       "      <th>4</th>\n",
       "      <td>70</td>\n",
       "      <td>F</td>\n",
       "      <td>f</td>\n",
       "      <td>f</td>\n",
       "      <td>f</td>\n",
       "      <td>f</td>\n",
       "      <td>f</td>\n",
       "      <td>f</td>\n",
       "      <td>f</td>\n",
       "      <td>f</td>\n",
       "      <td>...</td>\n",
       "      <td>t</td>\n",
       "      <td>61</td>\n",
       "      <td>t</td>\n",
       "      <td>0.87</td>\n",
       "      <td>t</td>\n",
       "      <td>70</td>\n",
       "      <td>f</td>\n",
       "      <td>?</td>\n",
       "      <td>SVI</td>\n",
       "      <td>negative.|2807</td>\n",
       "    </tr>\n",
       "  </tbody>\n",
       "</table>\n",
       "<p>5 rows × 30 columns</p>\n",
       "</div>"
      ],
      "text/plain": [
       "  age sex on thyroxine query on thyroxine on antithyroid medication sick  \\\n",
       "0  41   F            f                  f                         f    f   \n",
       "1  23   F            f                  f                         f    f   \n",
       "2  46   M            f                  f                         f    f   \n",
       "3  70   F            t                  f                         f    f   \n",
       "4  70   F            f                  f                         f    f   \n",
       "\n",
       "  pregnant thyroid surgery I131 treatment query hypothyroid  ... TT4 measured  \\\n",
       "0        f               f              f                 f  ...            t   \n",
       "1        f               f              f                 f  ...            t   \n",
       "2        f               f              f                 f  ...            t   \n",
       "3        f               f              f                 f  ...            t   \n",
       "4        f               f              f                 f  ...            t   \n",
       "\n",
       "   TT4 T4U measured   T4U FTI measured  FTI TBG measured TBG referral source  \\\n",
       "0  125            t  1.14            t  109            f   ?            SVHC   \n",
       "1  102            f     ?            f    ?            f   ?           other   \n",
       "2  109            t  0.91            t  120            f   ?           other   \n",
       "3  175            f     ?            f    ?            f   ?           other   \n",
       "4   61            t  0.87            t   70            f   ?             SVI   \n",
       "\n",
       "      binaryClass  \n",
       "0  negative.|3733  \n",
       "1  negative.|1442  \n",
       "2  negative.|2965  \n",
       "3   negative.|806  \n",
       "4  negative.|2807  \n",
       "\n",
       "[5 rows x 30 columns]"
      ]
     },
     "execution_count": 3,
     "metadata": {},
     "output_type": "execute_result"
    }
   ],
   "source": [
    "hyperthyroid_df.head()"
   ]
  },
  {
   "cell_type": "code",
   "execution_count": 4,
   "id": "fd779aac-2ffa-4df9-8d6a-721fb61eca3c",
   "metadata": {
    "tags": []
   },
   "outputs": [],
   "source": [
    "hyperthyroid_df = relabel_bclass(hyperthyroid_df)"
   ]
  },
  {
   "cell_type": "code",
   "execution_count": 5,
   "id": "0b6c7fe2-f9f6-4315-afba-510baa2a5e41",
   "metadata": {},
   "outputs": [
    {
     "data": {
      "text/plain": [
       "['P', 'N', nan]"
      ]
     },
     "execution_count": 5,
     "metadata": {},
     "output_type": "execute_result"
    }
   ],
   "source": [
    "hyperthyroid_df.binaryClass.unique().tolist()"
   ]
  },
  {
   "cell_type": "code",
   "execution_count": 6,
   "id": "cf4b78f6-41cd-4216-9b6c-05ba1735e1e6",
   "metadata": {},
   "outputs": [
    {
     "data": {
      "text/html": [
       "<div>\n",
       "<style scoped>\n",
       "    .dataframe tbody tr th:only-of-type {\n",
       "        vertical-align: middle;\n",
       "    }\n",
       "\n",
       "    .dataframe tbody tr th {\n",
       "        vertical-align: top;\n",
       "    }\n",
       "\n",
       "    .dataframe thead th {\n",
       "        text-align: right;\n",
       "    }\n",
       "</style>\n",
       "<table border=\"1\" class=\"dataframe\">\n",
       "  <thead>\n",
       "    <tr style=\"text-align: right;\">\n",
       "      <th></th>\n",
       "      <th>age</th>\n",
       "      <th>sex</th>\n",
       "      <th>on thyroxine</th>\n",
       "      <th>query on thyroxine</th>\n",
       "      <th>on antithyroid medication</th>\n",
       "      <th>sick</th>\n",
       "      <th>pregnant</th>\n",
       "      <th>thyroid surgery</th>\n",
       "      <th>I131 treatment</th>\n",
       "      <th>query hypothyroid</th>\n",
       "      <th>...</th>\n",
       "      <th>TT4 measured</th>\n",
       "      <th>TT4</th>\n",
       "      <th>T4U measured</th>\n",
       "      <th>T4U</th>\n",
       "      <th>FTI measured</th>\n",
       "      <th>FTI</th>\n",
       "      <th>TBG measured</th>\n",
       "      <th>TBG</th>\n",
       "      <th>referral source</th>\n",
       "      <th>binaryClass</th>\n",
       "    </tr>\n",
       "  </thead>\n",
       "  <tbody>\n",
       "    <tr>\n",
       "      <th>0</th>\n",
       "      <td>41</td>\n",
       "      <td>F</td>\n",
       "      <td>f</td>\n",
       "      <td>f</td>\n",
       "      <td>f</td>\n",
       "      <td>f</td>\n",
       "      <td>f</td>\n",
       "      <td>f</td>\n",
       "      <td>f</td>\n",
       "      <td>f</td>\n",
       "      <td>...</td>\n",
       "      <td>t</td>\n",
       "      <td>125</td>\n",
       "      <td>t</td>\n",
       "      <td>1.14</td>\n",
       "      <td>t</td>\n",
       "      <td>109</td>\n",
       "      <td>f</td>\n",
       "      <td>?</td>\n",
       "      <td>SVHC</td>\n",
       "      <td>P</td>\n",
       "    </tr>\n",
       "    <tr>\n",
       "      <th>1</th>\n",
       "      <td>23</td>\n",
       "      <td>F</td>\n",
       "      <td>f</td>\n",
       "      <td>f</td>\n",
       "      <td>f</td>\n",
       "      <td>f</td>\n",
       "      <td>f</td>\n",
       "      <td>f</td>\n",
       "      <td>f</td>\n",
       "      <td>f</td>\n",
       "      <td>...</td>\n",
       "      <td>t</td>\n",
       "      <td>102</td>\n",
       "      <td>f</td>\n",
       "      <td>?</td>\n",
       "      <td>f</td>\n",
       "      <td>?</td>\n",
       "      <td>f</td>\n",
       "      <td>?</td>\n",
       "      <td>other</td>\n",
       "      <td>P</td>\n",
       "    </tr>\n",
       "    <tr>\n",
       "      <th>2</th>\n",
       "      <td>46</td>\n",
       "      <td>M</td>\n",
       "      <td>f</td>\n",
       "      <td>f</td>\n",
       "      <td>f</td>\n",
       "      <td>f</td>\n",
       "      <td>f</td>\n",
       "      <td>f</td>\n",
       "      <td>f</td>\n",
       "      <td>f</td>\n",
       "      <td>...</td>\n",
       "      <td>t</td>\n",
       "      <td>109</td>\n",
       "      <td>t</td>\n",
       "      <td>0.91</td>\n",
       "      <td>t</td>\n",
       "      <td>120</td>\n",
       "      <td>f</td>\n",
       "      <td>?</td>\n",
       "      <td>other</td>\n",
       "      <td>P</td>\n",
       "    </tr>\n",
       "    <tr>\n",
       "      <th>3</th>\n",
       "      <td>70</td>\n",
       "      <td>F</td>\n",
       "      <td>t</td>\n",
       "      <td>f</td>\n",
       "      <td>f</td>\n",
       "      <td>f</td>\n",
       "      <td>f</td>\n",
       "      <td>f</td>\n",
       "      <td>f</td>\n",
       "      <td>f</td>\n",
       "      <td>...</td>\n",
       "      <td>t</td>\n",
       "      <td>175</td>\n",
       "      <td>f</td>\n",
       "      <td>?</td>\n",
       "      <td>f</td>\n",
       "      <td>?</td>\n",
       "      <td>f</td>\n",
       "      <td>?</td>\n",
       "      <td>other</td>\n",
       "      <td>P</td>\n",
       "    </tr>\n",
       "    <tr>\n",
       "      <th>4</th>\n",
       "      <td>70</td>\n",
       "      <td>F</td>\n",
       "      <td>f</td>\n",
       "      <td>f</td>\n",
       "      <td>f</td>\n",
       "      <td>f</td>\n",
       "      <td>f</td>\n",
       "      <td>f</td>\n",
       "      <td>f</td>\n",
       "      <td>f</td>\n",
       "      <td>...</td>\n",
       "      <td>t</td>\n",
       "      <td>61</td>\n",
       "      <td>t</td>\n",
       "      <td>0.87</td>\n",
       "      <td>t</td>\n",
       "      <td>70</td>\n",
       "      <td>f</td>\n",
       "      <td>?</td>\n",
       "      <td>SVI</td>\n",
       "      <td>P</td>\n",
       "    </tr>\n",
       "  </tbody>\n",
       "</table>\n",
       "<p>5 rows × 30 columns</p>\n",
       "</div>"
      ],
      "text/plain": [
       "  age sex on thyroxine query on thyroxine on antithyroid medication sick  \\\n",
       "0  41   F            f                  f                         f    f   \n",
       "1  23   F            f                  f                         f    f   \n",
       "2  46   M            f                  f                         f    f   \n",
       "3  70   F            t                  f                         f    f   \n",
       "4  70   F            f                  f                         f    f   \n",
       "\n",
       "  pregnant thyroid surgery I131 treatment query hypothyroid  ... TT4 measured  \\\n",
       "0        f               f              f                 f  ...            t   \n",
       "1        f               f              f                 f  ...            t   \n",
       "2        f               f              f                 f  ...            t   \n",
       "3        f               f              f                 f  ...            t   \n",
       "4        f               f              f                 f  ...            t   \n",
       "\n",
       "   TT4 T4U measured   T4U FTI measured  FTI TBG measured TBG referral source  \\\n",
       "0  125            t  1.14            t  109            f   ?            SVHC   \n",
       "1  102            f     ?            f    ?            f   ?           other   \n",
       "2  109            t  0.91            t  120            f   ?           other   \n",
       "3  175            f     ?            f    ?            f   ?           other   \n",
       "4   61            t  0.87            t   70            f   ?             SVI   \n",
       "\n",
       "  binaryClass  \n",
       "0           P  \n",
       "1           P  \n",
       "2           P  \n",
       "3           P  \n",
       "4           P  \n",
       "\n",
       "[5 rows x 30 columns]"
      ]
     },
     "execution_count": 6,
     "metadata": {},
     "output_type": "execute_result"
    }
   ],
   "source": [
    "# Reading in data\n",
    "# hyperthyroid_df = pd.read_csv(\"data/hyperthyroid.csv\")\n",
    "hyperthyroid_df.head()"
   ]
  },
  {
   "cell_type": "code",
   "execution_count": 7,
   "id": "4a21d849-9644-4522-82b7-9220c488f09d",
   "metadata": {},
   "outputs": [],
   "source": [
    "# Replacing ? values with NA\n",
    "hyperthyroid = hyperthyroid_df.replace(\"?\", np.nan)"
   ]
  },
  {
   "cell_type": "code",
   "execution_count": 8,
   "id": "8bcfe233-bafe-4cda-b995-17d8e50626dc",
   "metadata": {},
   "outputs": [
    {
     "data": {
      "text/plain": [
       "age                             1\n",
       "sex                           150\n",
       "on thyroxine                    0\n",
       "query on thyroxine              0\n",
       "on antithyroid medication       0\n",
       "sick                            0\n",
       "pregnant                        0\n",
       "thyroid surgery                 0\n",
       "I131 treatment                  0\n",
       "query hypothyroid               0\n",
       "query hyperthyroid              0\n",
       "lithium                         0\n",
       "goitre                          0\n",
       "tumor                           0\n",
       "hypopituitary                   0\n",
       "psych                           0\n",
       "TSH measured                    0\n",
       "TSH                           369\n",
       "T3 measured                     0\n",
       "T3                            769\n",
       "TT4 measured                    0\n",
       "TT4                           231\n",
       "T4U measured                    0\n",
       "T4U                           387\n",
       "FTI measured                    0\n",
       "FTI                           385\n",
       "TBG measured                    0\n",
       "TBG                          3772\n",
       "referral source                 0\n",
       "binaryClass                    23\n",
       "dtype: int64"
      ]
     },
     "execution_count": 8,
     "metadata": {},
     "output_type": "execute_result"
    }
   ],
   "source": [
    "hyperthyroid.isna().sum()"
   ]
  },
  {
   "cell_type": "code",
   "execution_count": 9,
   "id": "fac1e739-fe56-45c2-929c-0625dd5610e7",
   "metadata": {},
   "outputs": [],
   "source": [
    "# Due to large amount of NA values in TBG and T3 these features will be removed from the dataset. \n",
    "# All \"measured\" features will also be removed as once NA's are removed they will all be \"t\"\n",
    "# We will also removed the referral source column as it is quite irrelevant\n",
    "# All other NA rows will simply be dropped\n",
    "hyper = hyperthyroid.drop(columns=[\"TBG\", \"TBG measured\", \"T3\", \"T3 measured\", \"TSH measured\",\n",
    "                                   \"TT4 measured\", \"FTI measured\", \"T4U measured\", \"referral source\"])"
   ]
  },
  {
   "cell_type": "code",
   "execution_count": 10,
   "id": "37e62fd2-4b03-47e4-913d-70a3cedb8045",
   "metadata": {},
   "outputs": [],
   "source": [
    "hyper_clean = hyper.dropna()"
   ]
  },
  {
   "cell_type": "code",
   "execution_count": 11,
   "id": "c0a35071-8cb7-48b2-982d-e90865f0b387",
   "metadata": {},
   "outputs": [
    {
     "name": "stdout",
     "output_type": "stream",
     "text": [
      "<class 'pandas.core.frame.DataFrame'>\n",
      "Int64Index: 3085 entries, 0 to 971\n",
      "Data columns (total 21 columns):\n",
      " #   Column                     Non-Null Count  Dtype \n",
      "---  ------                     --------------  ----- \n",
      " 0   age                        3085 non-null   object\n",
      " 1   sex                        3085 non-null   object\n",
      " 2   on thyroxine               3085 non-null   object\n",
      " 3   query on thyroxine         3085 non-null   object\n",
      " 4   on antithyroid medication  3085 non-null   object\n",
      " 5   sick                       3085 non-null   object\n",
      " 6   pregnant                   3085 non-null   object\n",
      " 7   thyroid surgery            3085 non-null   object\n",
      " 8   I131 treatment             3085 non-null   object\n",
      " 9   query hypothyroid          3085 non-null   object\n",
      " 10  query hyperthyroid         3085 non-null   object\n",
      " 11  lithium                    3085 non-null   object\n",
      " 12  goitre                     3085 non-null   object\n",
      " 13  tumor                      3085 non-null   object\n",
      " 14  hypopituitary              3085 non-null   object\n",
      " 15  psych                      3085 non-null   object\n",
      " 16  TSH                        3085 non-null   object\n",
      " 17  TT4                        3085 non-null   object\n",
      " 18  T4U                        3085 non-null   object\n",
      " 19  FTI                        3085 non-null   object\n",
      " 20  binaryClass                3085 non-null   object\n",
      "dtypes: object(21)\n",
      "memory usage: 530.2+ KB\n"
     ]
    }
   ],
   "source": [
    "hyper_clean.info()"
   ]
  },
  {
   "cell_type": "code",
   "execution_count": 12,
   "id": "0bfe4058-ecf8-411d-b6c4-b118b73863d9",
   "metadata": {},
   "outputs": [],
   "source": [
    "# Changing Dtype of the columns to numeric/categorical\n",
    "num_cols = ['age', 'TSH', 'TT4', 'T4U', 'FTI']\n",
    "cat_cols = ['sex', 'on thyroxine', 'query on thyroxine', 'on antithyroid medication',\n",
    "            'sick', 'pregnant', 'thyroid surgery', 'I131 treatment', 'query hypothyroid',\n",
    "            'query hyperthyroid', 'lithium', 'goitre', 'tumor', 'psych', 'binaryClass', 'hypopituitary']\n",
    "\n",
    "hyper_clean = col_dtype_reformat(num_cols, cat_cols, hyper_clean)"
   ]
  },
  {
   "cell_type": "code",
   "execution_count": 13,
   "id": "f7035a04-a361-4059-ba09-f0692b11909c",
   "metadata": {},
   "outputs": [
    {
     "name": "stdout",
     "output_type": "stream",
     "text": [
      "<class 'pandas.core.frame.DataFrame'>\n",
      "Int64Index: 3085 entries, 0 to 971\n",
      "Data columns (total 21 columns):\n",
      " #   Column                     Non-Null Count  Dtype   \n",
      "---  ------                     --------------  -----   \n",
      " 0   age                        3085 non-null   float64 \n",
      " 1   sex                        3085 non-null   category\n",
      " 2   on thyroxine               3085 non-null   category\n",
      " 3   query on thyroxine         3085 non-null   category\n",
      " 4   on antithyroid medication  3085 non-null   category\n",
      " 5   sick                       3085 non-null   category\n",
      " 6   pregnant                   3085 non-null   category\n",
      " 7   thyroid surgery            3085 non-null   category\n",
      " 8   I131 treatment             3085 non-null   category\n",
      " 9   query hypothyroid          3085 non-null   category\n",
      " 10  query hyperthyroid         3085 non-null   category\n",
      " 11  lithium                    3085 non-null   category\n",
      " 12  goitre                     3085 non-null   category\n",
      " 13  tumor                      3085 non-null   category\n",
      " 14  hypopituitary              3085 non-null   category\n",
      " 15  psych                      3085 non-null   category\n",
      " 16  TSH                        3085 non-null   float64 \n",
      " 17  TT4                        3085 non-null   float64 \n",
      " 18  T4U                        3085 non-null   float64 \n",
      " 19  FTI                        3085 non-null   float64 \n",
      " 20  binaryClass                3085 non-null   category\n",
      "dtypes: category(16), float64(5)\n",
      "memory usage: 194.8 KB\n"
     ]
    }
   ],
   "source": [
    "hyper_clean.info()"
   ]
  },
  {
   "cell_type": "code",
   "execution_count": 14,
   "id": "c0a8c1a4-63af-43ea-8364-e7d9ecfae387",
   "metadata": {},
   "outputs": [],
   "source": [
    "# Changing binaryClass so 0 represents negative and 1 represents positive\n",
    "hyper_clean['binaryClass'] = hyper_clean['binaryClass'].replace([\"N\", \"P\"], [1, 0])"
   ]
  },
  {
   "cell_type": "markdown",
   "id": "5c2020dd-b231-4871-ad1b-79bceae72a73",
   "metadata": {},
   "source": [
    "## Exploratory Data Analysis (EDA)"
   ]
  },
  {
   "cell_type": "code",
   "execution_count": 15,
   "id": "6181fa66-d143-450c-bbb4-9a8451d1d878",
   "metadata": {},
   "outputs": [
    {
     "name": "stdout",
     "output_type": "stream",
     "text": [
      "<class 'pandas.core.frame.DataFrame'>\n",
      "Int64Index: 3085 entries, 0 to 971\n",
      "Data columns (total 21 columns):\n",
      " #   Column                     Non-Null Count  Dtype   \n",
      "---  ------                     --------------  -----   \n",
      " 0   age                        3085 non-null   float64 \n",
      " 1   sex                        3085 non-null   category\n",
      " 2   on thyroxine               3085 non-null   category\n",
      " 3   query on thyroxine         3085 non-null   category\n",
      " 4   on antithyroid medication  3085 non-null   category\n",
      " 5   sick                       3085 non-null   category\n",
      " 6   pregnant                   3085 non-null   category\n",
      " 7   thyroid surgery            3085 non-null   category\n",
      " 8   I131 treatment             3085 non-null   category\n",
      " 9   query hypothyroid          3085 non-null   category\n",
      " 10  query hyperthyroid         3085 non-null   category\n",
      " 11  lithium                    3085 non-null   category\n",
      " 12  goitre                     3085 non-null   category\n",
      " 13  tumor                      3085 non-null   category\n",
      " 14  hypopituitary              3085 non-null   category\n",
      " 15  psych                      3085 non-null   category\n",
      " 16  TSH                        3085 non-null   float64 \n",
      " 17  TT4                        3085 non-null   float64 \n",
      " 18  T4U                        3085 non-null   float64 \n",
      " 19  FTI                        3085 non-null   float64 \n",
      " 20  binaryClass                3085 non-null   category\n",
      "dtypes: category(16), float64(5)\n",
      "memory usage: 194.8 KB\n"
     ]
    }
   ],
   "source": [
    "hyper_clean.info()"
   ]
  },
  {
   "cell_type": "code",
   "execution_count": 16,
   "id": "cb586609-55a5-4f60-af60-52f3461df39b",
   "metadata": {},
   "outputs": [
    {
     "data": {
      "text/html": [
       "<div>\n",
       "<style scoped>\n",
       "    .dataframe tbody tr th:only-of-type {\n",
       "        vertical-align: middle;\n",
       "    }\n",
       "\n",
       "    .dataframe tbody tr th {\n",
       "        vertical-align: top;\n",
       "    }\n",
       "\n",
       "    .dataframe thead th {\n",
       "        text-align: right;\n",
       "    }\n",
       "</style>\n",
       "<table border=\"1\" class=\"dataframe\">\n",
       "  <thead>\n",
       "    <tr style=\"text-align: right;\">\n",
       "      <th></th>\n",
       "      <th>age</th>\n",
       "      <th>TSH</th>\n",
       "      <th>TT4</th>\n",
       "      <th>T4U</th>\n",
       "      <th>FTI</th>\n",
       "    </tr>\n",
       "  </thead>\n",
       "  <tbody>\n",
       "    <tr>\n",
       "      <th>count</th>\n",
       "      <td>3085.000000</td>\n",
       "      <td>3085.000000</td>\n",
       "      <td>3085.000000</td>\n",
       "      <td>3085.000000</td>\n",
       "      <td>3085.00000</td>\n",
       "    </tr>\n",
       "    <tr>\n",
       "      <th>mean</th>\n",
       "      <td>52.821718</td>\n",
       "      <td>4.982172</td>\n",
       "      <td>108.694814</td>\n",
       "      <td>0.995246</td>\n",
       "      <td>110.31154</td>\n",
       "    </tr>\n",
       "    <tr>\n",
       "      <th>std</th>\n",
       "      <td>20.099428</td>\n",
       "      <td>23.975905</td>\n",
       "      <td>35.763281</td>\n",
       "      <td>0.194844</td>\n",
       "      <td>32.79471</td>\n",
       "    </tr>\n",
       "    <tr>\n",
       "      <th>min</th>\n",
       "      <td>1.000000</td>\n",
       "      <td>0.005000</td>\n",
       "      <td>2.000000</td>\n",
       "      <td>0.250000</td>\n",
       "      <td>2.00000</td>\n",
       "    </tr>\n",
       "    <tr>\n",
       "      <th>25%</th>\n",
       "      <td>37.000000</td>\n",
       "      <td>0.480000</td>\n",
       "      <td>88.000000</td>\n",
       "      <td>0.880000</td>\n",
       "      <td>93.00000</td>\n",
       "    </tr>\n",
       "    <tr>\n",
       "      <th>50%</th>\n",
       "      <td>55.000000</td>\n",
       "      <td>1.300000</td>\n",
       "      <td>104.000000</td>\n",
       "      <td>0.980000</td>\n",
       "      <td>107.00000</td>\n",
       "    </tr>\n",
       "    <tr>\n",
       "      <th>75%</th>\n",
       "      <td>68.000000</td>\n",
       "      <td>2.600000</td>\n",
       "      <td>125.000000</td>\n",
       "      <td>1.080000</td>\n",
       "      <td>124.00000</td>\n",
       "    </tr>\n",
       "    <tr>\n",
       "      <th>max</th>\n",
       "      <td>455.000000</td>\n",
       "      <td>530.000000</td>\n",
       "      <td>430.000000</td>\n",
       "      <td>2.320000</td>\n",
       "      <td>395.00000</td>\n",
       "    </tr>\n",
       "  </tbody>\n",
       "</table>\n",
       "</div>"
      ],
      "text/plain": [
       "               age          TSH          TT4          T4U         FTI\n",
       "count  3085.000000  3085.000000  3085.000000  3085.000000  3085.00000\n",
       "mean     52.821718     4.982172   108.694814     0.995246   110.31154\n",
       "std      20.099428    23.975905    35.763281     0.194844    32.79471\n",
       "min       1.000000     0.005000     2.000000     0.250000     2.00000\n",
       "25%      37.000000     0.480000    88.000000     0.880000    93.00000\n",
       "50%      55.000000     1.300000   104.000000     0.980000   107.00000\n",
       "75%      68.000000     2.600000   125.000000     1.080000   124.00000\n",
       "max     455.000000   530.000000   430.000000     2.320000   395.00000"
      ]
     },
     "execution_count": 16,
     "metadata": {},
     "output_type": "execute_result"
    }
   ],
   "source": [
    "hyper_clean.describe()"
   ]
  },
  {
   "cell_type": "code",
   "execution_count": 17,
   "id": "66fba8c5-c43b-4036-95ee-db3c04dbfc52",
   "metadata": {},
   "outputs": [
    {
     "name": "stdout",
     "output_type": "stream",
     "text": [
      "---- age ---\n",
      "70.0    80\n",
      "59.0    79\n",
      "60.0    76\n",
      "73.0    70\n",
      "55.0    70\n",
      "        ..\n",
      "4.0      1\n",
      "6.0      1\n",
      "10.0     1\n",
      "92.0     1\n",
      "11.0     1\n",
      "Name: age, Length: 93, dtype: int64\n",
      "---- sex ---\n",
      "F    2096\n",
      "M     989\n",
      "Name: sex, dtype: int64\n",
      "---- on thyroxine ---\n",
      "f    2683\n",
      "t     402\n",
      "Name: on thyroxine, dtype: int64\n",
      "---- query on thyroxine ---\n",
      "f    3056\n",
      "t      29\n",
      "Name: query on thyroxine, dtype: int64\n",
      "---- on antithyroid medication ---\n",
      "f    3053\n",
      "t      32\n",
      "Name: on antithyroid medication, dtype: int64\n",
      "---- sick ---\n",
      "f    2956\n",
      "t     129\n",
      "Name: sick, dtype: int64\n",
      "---- pregnant ---\n",
      "f    3043\n",
      "t      42\n",
      "Name: pregnant, dtype: int64\n",
      "---- thyroid surgery ---\n",
      "f    3037\n",
      "t      48\n",
      "Name: thyroid surgery, dtype: int64\n",
      "---- I131 treatment ---\n",
      "f    3034\n",
      "t      51\n",
      "Name: I131 treatment, dtype: int64\n",
      "---- query hypothyroid ---\n",
      "f    2877\n",
      "t     208\n",
      "Name: query hypothyroid, dtype: int64\n",
      "---- query hyperthyroid ---\n",
      "f    2912\n",
      "t     173\n",
      "Name: query hyperthyroid, dtype: int64\n",
      "---- lithium ---\n",
      "f    3067\n",
      "t      18\n",
      "Name: lithium, dtype: int64\n",
      "---- goitre ---\n",
      "f    3061\n",
      "t      24\n",
      "Name: goitre, dtype: int64\n",
      "---- tumor ---\n",
      "f    3024\n",
      "t      61\n",
      "Name: tumor, dtype: int64\n",
      "---- hypopituitary ---\n",
      "f    3084\n",
      "t       1\n",
      "Name: hypopituitary, dtype: int64\n",
      "---- psych ---\n",
      "f    2912\n",
      "t     173\n",
      "Name: psych, dtype: int64\n",
      "---- TSH ---\n",
      "0.2      107\n",
      "1.3       98\n",
      "1.1       91\n",
      "1.4       83\n",
      "1.6       74\n",
      "        ... \n",
      "86.0       1\n",
      "108.0      1\n",
      "143.0      1\n",
      "11.4       1\n",
      "40.0       1\n",
      "Name: TSH, Length: 280, dtype: int64\n",
      "---- TT4 ---\n",
      "101.0    61\n",
      "93.0     60\n",
      "103.0    56\n",
      "98.0     54\n",
      "102.0    51\n",
      "         ..\n",
      "2.0       1\n",
      "289.0     1\n",
      "240.0     1\n",
      "43.0      1\n",
      "258.0     1\n",
      "Name: TT4, Length: 234, dtype: int64\n",
      "---- T4U ---\n",
      "0.99    90\n",
      "0.90    83\n",
      "0.92    82\n",
      "0.97    82\n",
      "1.00    81\n",
      "        ..\n",
      "1.58     1\n",
      "2.03     1\n",
      "1.97     1\n",
      "1.93     1\n",
      "0.25     1\n",
      "Name: T4U, Length: 144, dtype: int64\n",
      "---- FTI ---\n",
      "93.0     64\n",
      "100.0    63\n",
      "114.0    60\n",
      "104.0    58\n",
      "96.0     58\n",
      "         ..\n",
      "215.0     1\n",
      "237.0     1\n",
      "37.0      1\n",
      "24.0      1\n",
      "227.0     1\n",
      "Name: FTI, Length: 225, dtype: int64\n",
      "---- binaryClass ---\n",
      "0    3020\n",
      "1      65\n",
      "Name: binaryClass, dtype: int64\n"
     ]
    }
   ],
   "source": [
    "for c in hyper_clean.columns:\n",
    "    print(\"---- %s ---\" % c)\n",
    "    print(hyper_clean[c].value_counts())"
   ]
  },
  {
   "cell_type": "code",
   "execution_count": 18,
   "id": "ff7f69a6-7e17-4c1d-adb5-8bd3e61fd7c4",
   "metadata": {},
   "outputs": [
    {
     "name": "stdout",
     "output_type": "stream",
     "text": [
      "Figure 1: Correlations of numeric features\n"
     ]
    },
    {
     "data": {
      "image/png": "[encoded data removed]",
      "text/plain": [
       "<Figure size 2000x1000 with 2 Axes>"
      ]
     },
     "metadata": {},
     "output_type": "display_data"
    }
   ],
   "source": [
    "plot_correlations(hyper_clean).show()"
   ]
  },
  {
   "cell_type": "code",
   "execution_count": 19,
   "id": "378a5b9e-7328-4132-a1ea-58bd8bd5aa33",
   "metadata": {},
   "outputs": [
    {
     "name": "stdout",
     "output_type": "stream",
     "text": [
      "Figure 2: Realization of class counts\n"
     ]
    },
    {
     "data": {
      "text/html": [
       "<div>\n",
       "<style scoped>\n",
       "    .dataframe tbody tr th:only-of-type {\n",
       "        vertical-align: middle;\n",
       "    }\n",
       "\n",
       "    .dataframe tbody tr th {\n",
       "        vertical-align: top;\n",
       "    }\n",
       "\n",
       "    .dataframe thead th {\n",
       "        text-align: right;\n",
       "    }\n",
       "</style>\n",
       "<table border=\"1\" class=\"dataframe\">\n",
       "  <thead>\n",
       "    <tr style=\"text-align: right;\">\n",
       "      <th></th>\n",
       "      <th>binaryClass</th>\n",
       "    </tr>\n",
       "  </thead>\n",
       "  <tbody>\n",
       "    <tr>\n",
       "      <th>0</th>\n",
       "      <td>3020</td>\n",
       "    </tr>\n",
       "    <tr>\n",
       "      <th>1</th>\n",
       "      <td>65</td>\n",
       "    </tr>\n",
       "  </tbody>\n",
       "</table>\n",
       "</div>"
      ],
      "text/plain": [
       "   binaryClass\n",
       "0         3020\n",
       "1           65"
      ]
     },
     "execution_count": 19,
     "metadata": {},
     "output_type": "execute_result"
    }
   ],
   "source": [
    "print(\"Figure 2: Realization of class counts\")\n",
    "pd.DataFrame(hyper_clean['binaryClass'].value_counts())"
   ]
  },
  {
   "cell_type": "markdown",
   "id": "cee59bc0-07be-42a1-bea3-4d325d130e57",
   "metadata": {},
   "source": [
    "## Model Training & Analysis"
   ]
  },
  {
   "cell_type": "code",
   "execution_count": 20,
   "id": "2dc83fea-bfa3-4e18-b244-fbc797477072",
   "metadata": {},
   "outputs": [
    {
     "data": {
      "text/html": [
       "<div>\n",
       "<style scoped>\n",
       "    .dataframe tbody tr th:only-of-type {\n",
       "        vertical-align: middle;\n",
       "    }\n",
       "\n",
       "    .dataframe tbody tr th {\n",
       "        vertical-align: top;\n",
       "    }\n",
       "\n",
       "    .dataframe thead th {\n",
       "        text-align: right;\n",
       "    }\n",
       "</style>\n",
       "<table border=\"1\" class=\"dataframe\">\n",
       "  <thead>\n",
       "    <tr style=\"text-align: right;\">\n",
       "      <th></th>\n",
       "      <th>age</th>\n",
       "      <th>sex</th>\n",
       "      <th>on thyroxine</th>\n",
       "      <th>query on thyroxine</th>\n",
       "      <th>on antithyroid medication</th>\n",
       "      <th>sick</th>\n",
       "      <th>pregnant</th>\n",
       "      <th>thyroid surgery</th>\n",
       "      <th>I131 treatment</th>\n",
       "      <th>query hypothyroid</th>\n",
       "      <th>query hyperthyroid</th>\n",
       "      <th>lithium</th>\n",
       "      <th>goitre</th>\n",
       "      <th>tumor</th>\n",
       "      <th>hypopituitary</th>\n",
       "      <th>psych</th>\n",
       "      <th>TSH</th>\n",
       "      <th>TT4</th>\n",
       "      <th>T4U</th>\n",
       "      <th>FTI</th>\n",
       "    </tr>\n",
       "  </thead>\n",
       "  <tbody>\n",
       "    <tr>\n",
       "      <th>610</th>\n",
       "      <td>37.0</td>\n",
       "      <td>F</td>\n",
       "      <td>t</td>\n",
       "      <td>f</td>\n",
       "      <td>f</td>\n",
       "      <td>f</td>\n",
       "      <td>f</td>\n",
       "      <td>f</td>\n",
       "      <td>f</td>\n",
       "      <td>f</td>\n",
       "      <td>f</td>\n",
       "      <td>f</td>\n",
       "      <td>f</td>\n",
       "      <td>f</td>\n",
       "      <td>f</td>\n",
       "      <td>f</td>\n",
       "      <td>0.25</td>\n",
       "      <td>111.0</td>\n",
       "      <td>0.97</td>\n",
       "      <td>114.0</td>\n",
       "    </tr>\n",
       "    <tr>\n",
       "      <th>1747</th>\n",
       "      <td>57.0</td>\n",
       "      <td>F</td>\n",
       "      <td>f</td>\n",
       "      <td>f</td>\n",
       "      <td>f</td>\n",
       "      <td>t</td>\n",
       "      <td>f</td>\n",
       "      <td>f</td>\n",
       "      <td>f</td>\n",
       "      <td>f</td>\n",
       "      <td>f</td>\n",
       "      <td>f</td>\n",
       "      <td>f</td>\n",
       "      <td>f</td>\n",
       "      <td>f</td>\n",
       "      <td>f</td>\n",
       "      <td>1.20</td>\n",
       "      <td>118.0</td>\n",
       "      <td>1.02</td>\n",
       "      <td>116.0</td>\n",
       "    </tr>\n",
       "    <tr>\n",
       "      <th>1156</th>\n",
       "      <td>23.0</td>\n",
       "      <td>F</td>\n",
       "      <td>f</td>\n",
       "      <td>f</td>\n",
       "      <td>f</td>\n",
       "      <td>f</td>\n",
       "      <td>f</td>\n",
       "      <td>f</td>\n",
       "      <td>f</td>\n",
       "      <td>t</td>\n",
       "      <td>f</td>\n",
       "      <td>f</td>\n",
       "      <td>f</td>\n",
       "      <td>f</td>\n",
       "      <td>f</td>\n",
       "      <td>f</td>\n",
       "      <td>0.60</td>\n",
       "      <td>78.0</td>\n",
       "      <td>1.07</td>\n",
       "      <td>73.0</td>\n",
       "    </tr>\n",
       "    <tr>\n",
       "      <th>2230</th>\n",
       "      <td>75.0</td>\n",
       "      <td>F</td>\n",
       "      <td>f</td>\n",
       "      <td>f</td>\n",
       "      <td>f</td>\n",
       "      <td>f</td>\n",
       "      <td>f</td>\n",
       "      <td>t</td>\n",
       "      <td>f</td>\n",
       "      <td>f</td>\n",
       "      <td>f</td>\n",
       "      <td>f</td>\n",
       "      <td>f</td>\n",
       "      <td>f</td>\n",
       "      <td>f</td>\n",
       "      <td>f</td>\n",
       "      <td>0.83</td>\n",
       "      <td>116.0</td>\n",
       "      <td>0.99</td>\n",
       "      <td>117.0</td>\n",
       "    </tr>\n",
       "    <tr>\n",
       "      <th>2359</th>\n",
       "      <td>83.0</td>\n",
       "      <td>F</td>\n",
       "      <td>f</td>\n",
       "      <td>f</td>\n",
       "      <td>f</td>\n",
       "      <td>f</td>\n",
       "      <td>f</td>\n",
       "      <td>f</td>\n",
       "      <td>f</td>\n",
       "      <td>f</td>\n",
       "      <td>f</td>\n",
       "      <td>f</td>\n",
       "      <td>f</td>\n",
       "      <td>t</td>\n",
       "      <td>f</td>\n",
       "      <td>f</td>\n",
       "      <td>0.44</td>\n",
       "      <td>145.0</td>\n",
       "      <td>1.08</td>\n",
       "      <td>135.0</td>\n",
       "    </tr>\n",
       "  </tbody>\n",
       "</table>\n",
       "</div>"
      ],
      "text/plain": [
       "       age sex on thyroxine query on thyroxine on antithyroid medication sick  \\\n",
       "610   37.0   F            t                  f                         f    f   \n",
       "1747  57.0   F            f                  f                         f    t   \n",
       "1156  23.0   F            f                  f                         f    f   \n",
       "2230  75.0   F            f                  f                         f    f   \n",
       "2359  83.0   F            f                  f                         f    f   \n",
       "\n",
       "     pregnant thyroid surgery I131 treatment query hypothyroid  \\\n",
       "610         f               f              f                 f   \n",
       "1747        f               f              f                 f   \n",
       "1156        f               f              f                 t   \n",
       "2230        f               t              f                 f   \n",
       "2359        f               f              f                 f   \n",
       "\n",
       "     query hyperthyroid lithium goitre tumor hypopituitary psych   TSH    TT4  \\\n",
       "610                   f       f      f     f             f     f  0.25  111.0   \n",
       "1747                  f       f      f     f             f     f  1.20  118.0   \n",
       "1156                  f       f      f     f             f     f  0.60   78.0   \n",
       "2230                  f       f      f     f             f     f  0.83  116.0   \n",
       "2359                  f       f      f     t             f     f  0.44  145.0   \n",
       "\n",
       "       T4U    FTI  \n",
       "610   0.97  114.0  \n",
       "1747  1.02  116.0  \n",
       "1156  1.07   73.0  \n",
       "2230  0.99  117.0  \n",
       "2359  1.08  135.0  "
      ]
     },
     "execution_count": 20,
     "metadata": {},
     "output_type": "execute_result"
    }
   ],
   "source": [
    "# Splitting data\n",
    "X = hyper_clean.drop(columns=\"binaryClass\")\n",
    "y = hyper_clean['binaryClass']\n",
    "X_train, X_test, y_train, y_test = train_test_split(X, y, test_size=0.3)\n",
    "X_train.head()"
   ]
  },
  {
   "cell_type": "code",
   "execution_count": 21,
   "id": "1975befe-707d-4ea5-82f7-841f314992b8",
   "metadata": {},
   "outputs": [],
   "source": [
    "# Preprocessing data\n",
    "onehot = ['sex', 'on thyroxine', 'query on thyroxine', 'on antithyroid medication',\n",
    "          'sick', 'pregnant', 'thyroid surgery', 'I131 treatment', 'query hypothyroid',\n",
    "          'query hyperthyroid', 'lithium', 'goitre', 'tumor', 'psych', 'hypopituitary']\n",
    "numeric = ['age', 'TSH', 'TT4', 'T4U', 'FTI']"
   ]
  },
  {
   "cell_type": "code",
   "execution_count": 22,
   "id": "61641665-6aa6-46c0-9c38-a3acc2264afa",
   "metadata": {},
   "outputs": [],
   "source": [
    "ct = make_column_transformer(\n",
    "    (StandardScaler(), numeric),\n",
    "    (OneHotEncoder(handle_unknown='ignore'), onehot)\n",
    ")"
   ]
  },
  {
   "cell_type": "code",
   "execution_count": 23,
   "id": "9f0170e8-3796-4d2e-b486-87bdde7a66a8",
   "metadata": {},
   "outputs": [
    {
     "data": {
      "text/plain": [
       "array([[-7.22872137e-01, -2.09343631e-01,  2.06708753e+00, ...,\n",
       "         1.00000000e+00,  0.00000000e+00,  1.00000000e+00],\n",
       "       [-3.36493244e-01, -2.18400611e-01, -4.16087239e-02, ...,\n",
       "         1.00000000e+00,  0.00000000e+00,  1.00000000e+00],\n",
       "       [-1.49562992e+00, -1.26726302e-01, -7.63004811e-01, ...,\n",
       "         1.00000000e+00,  0.00000000e+00,  1.00000000e+00],\n",
       "       ...,\n",
       "       [ 1.01583288e+00, -5.60376781e-02, -2.63576751e-01, ...,\n",
       "         1.00000000e+00,  0.00000000e+00,  1.00000000e+00],\n",
       "       [ 1.58828748e-03, -2.95294441e-02, -4.02306767e-01, ...,\n",
       "         1.00000000e+00,  0.00000000e+00,  1.00000000e+00],\n",
       "       [-5.77980052e-01, -1.62070614e-01,  4.57819336e-01, ...,\n",
       "         1.00000000e+00,  0.00000000e+00,  1.00000000e+00]])"
      ]
     },
     "execution_count": 23,
     "metadata": {},
     "output_type": "execute_result"
    }
   ],
   "source": [
    "transformed_X_train = ct.fit_transform(X_train)\n",
    "transformed_X_test = ct.transform(X_test)\n",
    "transformed_X_test"
   ]
  },
  {
   "cell_type": "code",
   "execution_count": 24,
   "id": "bf22e6f2-fe44-495b-8a83-1466d4554dd4",
   "metadata": {},
   "outputs": [
    {
     "name": "stdout",
     "output_type": "stream",
     "text": [
      "Figure 3: Cross-Validation Scores for the Classifier\n"
     ]
    },
    {
     "data": {
      "text/html": [
       "<div>\n",
       "<style scoped>\n",
       "    .dataframe tbody tr th:only-of-type {\n",
       "        vertical-align: middle;\n",
       "    }\n",
       "\n",
       "    .dataframe tbody tr th {\n",
       "        vertical-align: top;\n",
       "    }\n",
       "\n",
       "    .dataframe thead th {\n",
       "        text-align: right;\n",
       "    }\n",
       "</style>\n",
       "<table border=\"1\" class=\"dataframe\">\n",
       "  <thead>\n",
       "    <tr style=\"text-align: right;\">\n",
       "      <th></th>\n",
       "      <th>fit_time</th>\n",
       "      <th>score_time</th>\n",
       "      <th>test_score</th>\n",
       "      <th>train_score</th>\n",
       "    </tr>\n",
       "  </thead>\n",
       "  <tbody>\n",
       "    <tr>\n",
       "      <th>0</th>\n",
       "      <td>0.071545</td>\n",
       "      <td>0.021822</td>\n",
       "      <td>0.993056</td>\n",
       "      <td>0.987261</td>\n",
       "    </tr>\n",
       "    <tr>\n",
       "      <th>1</th>\n",
       "      <td>0.078812</td>\n",
       "      <td>0.024572</td>\n",
       "      <td>0.979167</td>\n",
       "      <td>0.990735</td>\n",
       "    </tr>\n",
       "    <tr>\n",
       "      <th>2</th>\n",
       "      <td>0.085116</td>\n",
       "      <td>0.020613</td>\n",
       "      <td>0.986111</td>\n",
       "      <td>0.987261</td>\n",
       "    </tr>\n",
       "    <tr>\n",
       "      <th>3</th>\n",
       "      <td>0.079684</td>\n",
       "      <td>0.021092</td>\n",
       "      <td>0.993056</td>\n",
       "      <td>0.984945</td>\n",
       "    </tr>\n",
       "    <tr>\n",
       "      <th>4</th>\n",
       "      <td>0.089188</td>\n",
       "      <td>0.023917</td>\n",
       "      <td>0.983759</td>\n",
       "      <td>0.987847</td>\n",
       "    </tr>\n",
       "  </tbody>\n",
       "</table>\n",
       "</div>"
      ],
      "text/plain": [
       "   fit_time  score_time  test_score  train_score\n",
       "0  0.071545    0.021822    0.993056     0.987261\n",
       "1  0.078812    0.024572    0.979167     0.990735\n",
       "2  0.085116    0.020613    0.986111     0.987261\n",
       "3  0.079684    0.021092    0.993056     0.984945\n",
       "4  0.089188    0.023917    0.983759     0.987847"
      ]
     },
     "execution_count": 24,
     "metadata": {},
     "output_type": "execute_result"
    }
   ],
   "source": [
    "# Creating LogisticRegression Classifier\n",
    "pipe_log = make_pipeline(ct, LogisticRegression(max_iter=1000, C=1))\n",
    "cv = cross_validate(pipe_log, X_train, y_train, error_score='raise', return_train_score=True)\n",
    "print(\"Figure 3: Cross-Validation Scores for the Classifier\")\n",
    "pd.DataFrame(cv)"
   ]
  },
  {
   "cell_type": "markdown",
   "id": "e27ee9ee-83ed-4158-a0de-23afb05d3885",
   "metadata": {},
   "source": [
    "Cross validation performs well so this model will be applied to the dataset."
   ]
  },
  {
   "cell_type": "code",
   "execution_count": 25,
   "id": "e05ff03f-8fed-4f92-8f49-4ae94053ebc3",
   "metadata": {},
   "outputs": [],
   "source": [
    "lr = LogisticRegression(max_iter=1000, C=1)\n",
    "X_train_trans = ct.fit_transform(X_train)\n",
    "X_test_trans = ct.transform(X_test)\n",
    "lr.fit(X_train_trans, y_train)\n",
    "train_preds = lr.predict(X_train_trans)"
   ]
  },
  {
   "cell_type": "code",
   "execution_count": 26,
   "id": "0b4059fc-e69e-4b0b-9bcd-558623d70a9b",
   "metadata": {},
   "outputs": [
    {
     "name": "stdout",
     "output_type": "stream",
     "text": [
      "Figure 4: Visualization of Classification with TSH and TT4 concentration on the axes for training set\n"
     ]
    },
    {
     "data": {
      "image/png": "[encoded data removed]",
      "text/plain": [
       "<Figure size 640x480 with 1 Axes>"
      ]
     },
     "metadata": {},
     "output_type": "display_data"
    }
   ],
   "source": [
    "print(\"Figure 4: Visualization of Classification with TSH and TT4 concentration on the axes for training set\")\n",
    "visualize_classification(X_train, train_preds).show()"
   ]
  },
  {
   "cell_type": "code",
   "execution_count": 27,
   "id": "284b09e2-bd4b-42f4-9289-cebf84b3697b",
   "metadata": {},
   "outputs": [
    {
     "data": {
      "text/plain": [
       "0.9874942102825383"
      ]
     },
     "execution_count": 27,
     "metadata": {},
     "output_type": "execute_result"
    }
   ],
   "source": [
    "accuracy_score(train_preds, y_train)"
   ]
  },
  {
   "cell_type": "markdown",
   "id": "8ee1f888-9850-453a-8f6c-1cca4219dc62",
   "metadata": {},
   "source": [
    "The model produces a very strong 98% accuracy rate on the training data. "
   ]
  },
  {
   "cell_type": "code",
   "execution_count": 28,
   "id": "84e7862c-bdf4-43eb-ae08-5bb3e831dbfa",
   "metadata": {},
   "outputs": [],
   "source": [
    "# Test set\n",
    "test_preds = lr.predict(X_test_trans)"
   ]
  },
  {
   "cell_type": "code",
   "execution_count": 29,
   "id": "bc1ec1b6-4237-4ad7-ad8b-f6a3f0fce64a",
   "metadata": {},
   "outputs": [
    {
     "name": "stdout",
     "output_type": "stream",
     "text": [
      "Figure 5: Visualization of Clusters with TSH and TT4 concentration on the axes for test set\n"
     ]
    },
    {
     "data": {
      "image/png": "[encoded data removed]",
      "text/plain": [
       "<Figure size 640x480 with 1 Axes>"
      ]
     },
     "metadata": {},
     "output_type": "display_data"
    }
   ],
   "source": [
    "print(\"Figure 5: Visualization of Clusters with TSH and TT4 concentration on the axes for test set\")\n",
    "visualize_classification(X_test, test_preds).show()"
   ]
  },
  {
   "cell_type": "code",
   "execution_count": 30,
   "id": "94a8d896-2ad7-4baa-bb7a-67a0c302f440",
   "metadata": {},
   "outputs": [
    {
     "data": {
      "text/plain": [
       "0.9859611231101512"
      ]
     },
     "execution_count": 30,
     "metadata": {},
     "output_type": "execute_result"
    }
   ],
   "source": [
    "accuracy_score(test_preds, y_test)"
   ]
  },
  {
   "cell_type": "markdown",
   "id": "38445955-700e-4e0a-afd7-b70f78e2cd38",
   "metadata": {},
   "source": [
    "The model also performs quite well on the test set with a 98% accuracy."
   ]
  },
  {
   "cell_type": "code",
   "execution_count": 43,
   "id": "ff3bf418-cdc1-4535-9e93-09f8eb12e56b",
   "metadata": {
    "tags": []
   },
   "outputs": [
    {
     "name": "stdout",
     "output_type": "stream",
     "text": [
      "Figure 6: Confusion matrix for test predictions\n"
     ]
    },
    {
     "data": {
      "image/png": "[encoded data removed]",
      "text/plain": [
       "<Figure size 640x480 with 2 Axes>"
      ]
     },
     "metadata": {},
     "output_type": "display_data"
    }
   ],
   "source": [
    "# Confusion Matrix\n",
    "print(\"Figure 6: Confusion matrix for test predictions\")\n",
    "cm = confusion_matrix(y_test, test_preds)\n",
    "disp = ConfusionMatrixDisplay(cm, display_labels=[True, False])\n",
    "disp = disp.plot()\n",
    "plt.grid(False)\n",
    "plt.show()"
   ]
  },
  {
   "cell_type": "markdown",
   "id": "004a427d-ac3d-4843-a381-679d9a65c35e",
   "metadata": {},
   "source": [
    "## Discussion\n",
    "The model we trained has a 98% accuracy when tested on a test set. As we were provided by a plethora of measurements specific to thyroid hormones tied to hyperthyroidism, we expected to be able to train a classifier with a high level of accuracy. We believe that this model could act as a further test to backup a doctor's medical opinion for hyperthyroidism. Additionally, due to the lower analysis cost of prediction, this could potentially be an easy resource for people to self-test for the disease. Currently, there are at-home thyroid tests you can administer to measure thyroid hormone levels. By lowering the barrier of entry, more potential hyperthyroidism patients can detect their diseases early on instead of waiting for a medical appointment. A future project could be to model hyperthyroidism disease progression over time. Thyroid hormone levels exist on a spectrum, and simply saying someone has hyperthyroidism or hypothyroidism is severely oversimplifying the disease. Additionally, other projects could look if the dataset holds out in a modern setting. The dataset was published in 1987 and it has been studied that hyperthyroidism increased between 1987 and 1995 due to an increase in salt in food (Mostbeck et al., 1998).\n"
   ]
  },
  {
   "cell_type": "markdown",
   "id": "edf356e4-f65d-49ec-ad13-f49610f2a7ba",
   "metadata": {},
   "source": [
    "## References"
   ]
  },
  {
   "cell_type": "markdown",
   "id": "8915b96f-b8b2-404e-966a-4d999456f429",
   "metadata": {},
   "source": [
    "Allahabadia, A., Daykin, J., Holder, R. L., Sheppard, M. C., Gough, S. C., &amp; Franklyn, J. A. (2000). Age and Gender Predict the Outcome of Treatment for Graves’ Hyperthyroidism. The Journal of Clinical Endocrinology &amp; Metabolism, 85(3), 1038–1042. https://doi.org/10.1210/jcem.85.3.6430 \n",
    "\n",
    "De Leo, S., Lee, S. Y., & Braverman, L. E. (2016). Hyperthyroidism. The Lancet, 388(10047), 906–918. https://doi.org/10.1016/s0140-6736(16)00278-6\n",
    "\n",
    "Mostbeck, A., Galvan, G., Bauer, P., Eber, O., Atefie, K., Dam, K., Feichtinger, H., Fritzsche, H., Haydl, H., Köhn, H., König, B., Koriska, K., Kroiss, A., Lind, P., Markt, B., Maschek, W., Pesl, H., Ramschak-Schwarzer, S., Riccabona, G., … Zechmann, W. (1998). The incidence of hyperthyroidism in Austria from 1987 to 1995 before and after an increase in salt iodization in 1990. European Journal of Nuclear Medicine and Molecular Imaging, 25(4), 367–374. https://doi.org/10.1007/s002590050234\n",
    "\n",
    "U.S. Department of Health and Human Services. (2021, August). Hyperthyroidism (overactive thyroid). National Institute of Diabetes and Digestive and Kidney Diseases. Retrieved February 17, 2023, from https://www.niddk.nih.gov/health-information/endocrine-diseases/hyperthyroidism\n"
   ]
  },
  {
   "cell_type": "code",
   "execution_count": null,
   "id": "37f3c080-a03d-4d4b-8249-81f9205d4037",
   "metadata": {},
   "outputs": [],
   "source": []
  }
 ],
 "metadata": {
  "kernelspec": {
   "display_name": "Python 3 (ipykernel)",
   "language": "python",
   "name": "python3"
  },
  "language_info": {
   "codemirror_mode": {
    "name": "ipython",
    "version": 3
   },
   "file_extension": ".py",
   "mimetype": "text/x-python",
   "name": "python",
   "nbconvert_exporter": "python",
   "pygments_lexer": "ipython3",
   "version": "3.9.15"
  }
 },
 "nbformat": 4,
 "nbformat_minor": 5
}
