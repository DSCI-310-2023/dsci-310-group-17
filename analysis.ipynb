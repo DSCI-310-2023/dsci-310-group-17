{
 "cells": [
  {
   "cell_type": "code",
   "execution_count": 1,
   "id": "428b8324-d1c7-4372-9938-b83b0b440eb7",
   "metadata": {},
   "outputs": [],
   "source": [
    "import os\n",
    "\n",
    "import matplotlib.pyplot as plt\n",
    "import numpy as np\n",
    "import pandas as pd\n",
    "from sklearn.cluster import KMeans\n",
    "import seaborn as sn"
   ]
  },
  {
   "cell_type": "markdown",
   "id": "328d00bd-60eb-42dd-b08d-f7d16f1d0037",
   "metadata": {},
   "source": [
    "# Hypothyroid Disease Classification\n",
    "### Group 17: Matthew Gillies, Ryan Lee, Eric Liu"
   ]
  },
  {
   "cell_type": "markdown",
   "id": "febf970d-9be5-461b-8540-446ed654fd71",
   "metadata": {},
   "source": [
    "## EDA and Data Tidying"
   ]
  },
  {
   "cell_type": "code",
   "execution_count": 61,
   "id": "cf4b78f6-41cd-4216-9b6c-05ba1735e1e6",
   "metadata": {},
   "outputs": [
    {
     "data": {
      "text/html": [
       "<div>\n",
       "<style scoped>\n",
       "    .dataframe tbody tr th:only-of-type {\n",
       "        vertical-align: middle;\n",
       "    }\n",
       "\n",
       "    .dataframe tbody tr th {\n",
       "        vertical-align: top;\n",
       "    }\n",
       "\n",
       "    .dataframe thead th {\n",
       "        text-align: right;\n",
       "    }\n",
       "</style>\n",
       "<table border=\"1\" class=\"dataframe\">\n",
       "  <thead>\n",
       "    <tr style=\"text-align: right;\">\n",
       "      <th></th>\n",
       "      <th>age</th>\n",
       "      <th>sex</th>\n",
       "      <th>on thyroxine</th>\n",
       "      <th>query on thyroxine</th>\n",
       "      <th>on antithyroid medication</th>\n",
       "      <th>sick</th>\n",
       "      <th>pregnant</th>\n",
       "      <th>thyroid surgery</th>\n",
       "      <th>I131 treatment</th>\n",
       "      <th>query hypothyroid</th>\n",
       "      <th>...</th>\n",
       "      <th>TT4 measured</th>\n",
       "      <th>TT4</th>\n",
       "      <th>T4U measured</th>\n",
       "      <th>T4U</th>\n",
       "      <th>FTI measured</th>\n",
       "      <th>FTI</th>\n",
       "      <th>TBG measured</th>\n",
       "      <th>TBG</th>\n",
       "      <th>referral source</th>\n",
       "      <th>binaryClass</th>\n",
       "    </tr>\n",
       "  </thead>\n",
       "  <tbody>\n",
       "    <tr>\n",
       "      <th>0</th>\n",
       "      <td>41</td>\n",
       "      <td>F</td>\n",
       "      <td>f</td>\n",
       "      <td>f</td>\n",
       "      <td>f</td>\n",
       "      <td>f</td>\n",
       "      <td>f</td>\n",
       "      <td>f</td>\n",
       "      <td>f</td>\n",
       "      <td>f</td>\n",
       "      <td>...</td>\n",
       "      <td>t</td>\n",
       "      <td>125</td>\n",
       "      <td>t</td>\n",
       "      <td>1.14</td>\n",
       "      <td>t</td>\n",
       "      <td>109</td>\n",
       "      <td>f</td>\n",
       "      <td>?</td>\n",
       "      <td>SVHC</td>\n",
       "      <td>P</td>\n",
       "    </tr>\n",
       "    <tr>\n",
       "      <th>1</th>\n",
       "      <td>23</td>\n",
       "      <td>F</td>\n",
       "      <td>f</td>\n",
       "      <td>f</td>\n",
       "      <td>f</td>\n",
       "      <td>f</td>\n",
       "      <td>f</td>\n",
       "      <td>f</td>\n",
       "      <td>f</td>\n",
       "      <td>f</td>\n",
       "      <td>...</td>\n",
       "      <td>t</td>\n",
       "      <td>102</td>\n",
       "      <td>f</td>\n",
       "      <td>?</td>\n",
       "      <td>f</td>\n",
       "      <td>?</td>\n",
       "      <td>f</td>\n",
       "      <td>?</td>\n",
       "      <td>other</td>\n",
       "      <td>P</td>\n",
       "    </tr>\n",
       "    <tr>\n",
       "      <th>2</th>\n",
       "      <td>46</td>\n",
       "      <td>M</td>\n",
       "      <td>f</td>\n",
       "      <td>f</td>\n",
       "      <td>f</td>\n",
       "      <td>f</td>\n",
       "      <td>f</td>\n",
       "      <td>f</td>\n",
       "      <td>f</td>\n",
       "      <td>f</td>\n",
       "      <td>...</td>\n",
       "      <td>t</td>\n",
       "      <td>109</td>\n",
       "      <td>t</td>\n",
       "      <td>0.91</td>\n",
       "      <td>t</td>\n",
       "      <td>120</td>\n",
       "      <td>f</td>\n",
       "      <td>?</td>\n",
       "      <td>other</td>\n",
       "      <td>P</td>\n",
       "    </tr>\n",
       "    <tr>\n",
       "      <th>3</th>\n",
       "      <td>70</td>\n",
       "      <td>F</td>\n",
       "      <td>t</td>\n",
       "      <td>f</td>\n",
       "      <td>f</td>\n",
       "      <td>f</td>\n",
       "      <td>f</td>\n",
       "      <td>f</td>\n",
       "      <td>f</td>\n",
       "      <td>f</td>\n",
       "      <td>...</td>\n",
       "      <td>t</td>\n",
       "      <td>175</td>\n",
       "      <td>f</td>\n",
       "      <td>?</td>\n",
       "      <td>f</td>\n",
       "      <td>?</td>\n",
       "      <td>f</td>\n",
       "      <td>?</td>\n",
       "      <td>other</td>\n",
       "      <td>P</td>\n",
       "    </tr>\n",
       "    <tr>\n",
       "      <th>4</th>\n",
       "      <td>70</td>\n",
       "      <td>F</td>\n",
       "      <td>f</td>\n",
       "      <td>f</td>\n",
       "      <td>f</td>\n",
       "      <td>f</td>\n",
       "      <td>f</td>\n",
       "      <td>f</td>\n",
       "      <td>f</td>\n",
       "      <td>f</td>\n",
       "      <td>...</td>\n",
       "      <td>t</td>\n",
       "      <td>61</td>\n",
       "      <td>t</td>\n",
       "      <td>0.87</td>\n",
       "      <td>t</td>\n",
       "      <td>70</td>\n",
       "      <td>f</td>\n",
       "      <td>?</td>\n",
       "      <td>SVI</td>\n",
       "      <td>P</td>\n",
       "    </tr>\n",
       "  </tbody>\n",
       "</table>\n",
       "<p>5 rows × 30 columns</p>\n",
       "</div>"
      ],
      "text/plain": [
       "  age sex on thyroxine query on thyroxine on antithyroid medication sick  \\\n",
       "0  41   F            f                  f                         f    f   \n",
       "1  23   F            f                  f                         f    f   \n",
       "2  46   M            f                  f                         f    f   \n",
       "3  70   F            t                  f                         f    f   \n",
       "4  70   F            f                  f                         f    f   \n",
       "\n",
       "  pregnant thyroid surgery I131 treatment query hypothyroid  ... TT4 measured  \\\n",
       "0        f               f              f                 f  ...            t   \n",
       "1        f               f              f                 f  ...            t   \n",
       "2        f               f              f                 f  ...            t   \n",
       "3        f               f              f                 f  ...            t   \n",
       "4        f               f              f                 f  ...            t   \n",
       "\n",
       "   TT4 T4U measured   T4U FTI measured  FTI TBG measured TBG referral source  \\\n",
       "0  125            t  1.14            t  109            f   ?            SVHC   \n",
       "1  102            f     ?            f    ?            f   ?           other   \n",
       "2  109            t  0.91            t  120            f   ?           other   \n",
       "3  175            f     ?            f    ?            f   ?           other   \n",
       "4   61            t  0.87            t   70            f   ?             SVI   \n",
       "\n",
       "  binaryClass  \n",
       "0           P  \n",
       "1           P  \n",
       "2           P  \n",
       "3           P  \n",
       "4           P  \n",
       "\n",
       "[5 rows x 30 columns]"
      ]
     },
     "execution_count": 61,
     "metadata": {},
     "output_type": "execute_result"
    }
   ],
   "source": [
    "## Reading in data\n",
    "hypothyroid_df = pd.read_csv(\"data/hypothyroid.csv\")\n",
    "hypothyroid_df.head()"
   ]
  },
  {
   "cell_type": "code",
   "execution_count": 62,
   "id": "6ae39afa-439e-4142-bb6f-2f7a02854210",
   "metadata": {},
   "outputs": [
    {
     "data": {
      "text/plain": [
       "(3772, 30)"
      ]
     },
     "execution_count": 62,
     "metadata": {},
     "output_type": "execute_result"
    }
   ],
   "source": [
    "hypothyroid_df.shape"
   ]
  },
  {
   "cell_type": "code",
   "execution_count": 21,
   "id": "4a21d849-9644-4522-82b7-9220c488f09d",
   "metadata": {},
   "outputs": [],
   "source": [
    "## Replacing ? values with NA\n",
    "hypothyroid = hypothyroid_df.replace(\"?\", np.nan)"
   ]
  },
  {
   "cell_type": "code",
   "execution_count": 22,
   "id": "8bcfe233-bafe-4cda-b995-17d8e50626dc",
   "metadata": {},
   "outputs": [
    {
     "data": {
      "text/plain": [
       "age                             1\n",
       "sex                           150\n",
       "on thyroxine                    0\n",
       "query on thyroxine              0\n",
       "on antithyroid medication       0\n",
       "sick                            0\n",
       "pregnant                        0\n",
       "thyroid surgery                 0\n",
       "I131 treatment                  0\n",
       "query hypothyroid               0\n",
       "query hyperthyroid              0\n",
       "lithium                         0\n",
       "goitre                          0\n",
       "tumor                           0\n",
       "hypopituitary                   0\n",
       "psych                           0\n",
       "TSH measured                    0\n",
       "TSH                           369\n",
       "T3 measured                     0\n",
       "T3                            769\n",
       "TT4 measured                    0\n",
       "TT4                           231\n",
       "T4U measured                    0\n",
       "T4U                           387\n",
       "FTI measured                    0\n",
       "FTI                           385\n",
       "TBG measured                    0\n",
       "TBG                          3772\n",
       "referral source                 0\n",
       "binaryClass                     0\n",
       "dtype: int64"
      ]
     },
     "execution_count": 22,
     "metadata": {},
     "output_type": "execute_result"
    }
   ],
   "source": [
    "hypothyroid.isna().sum()"
   ]
  },
  {
   "cell_type": "code",
   "execution_count": 42,
   "id": "fac1e739-fe56-45c2-929c-0625dd5610e7",
   "metadata": {},
   "outputs": [],
   "source": [
    "## **** Not sure if we want to drop NA's or impute?\n",
    "## Due to large amount of NA values in TBG and T3 these features will be removed from the dataset. \n",
    "## All \"measured\" features will also be removed as once NA's are removed they will all be \"t\"\n",
    "## We will also removed the referral source column as it is quite irrelevant\n",
    "## All other NA rows will simply be dropped\n",
    "hypo = hypothyroid.drop(columns = [\"TBG\", \"TBG measured\", \"T3\", \"T3 measured\", \"TSH measured\", \"TT4 measured\", \"FTI measured\"\n",
    "                                   , \"T4U measured\", \"referral source\"])"
   ]
  },
  {
   "cell_type": "code",
   "execution_count": 43,
   "id": "37e62fd2-4b03-47e4-913d-70a3cedb8045",
   "metadata": {},
   "outputs": [],
   "source": [
    "hypo_clean = hypo.dropna()"
   ]
  },
  {
   "cell_type": "code",
   "execution_count": 44,
   "id": "c0a35071-8cb7-48b2-982d-e90865f0b387",
   "metadata": {},
   "outputs": [
    {
     "name": "stdout",
     "output_type": "stream",
     "text": [
      "<class 'pandas.core.frame.DataFrame'>\n",
      "Int64Index: 3103 entries, 0 to 3771\n",
      "Data columns (total 21 columns):\n",
      " #   Column                     Non-Null Count  Dtype \n",
      "---  ------                     --------------  ----- \n",
      " 0   age                        3103 non-null   object\n",
      " 1   sex                        3103 non-null   object\n",
      " 2   on thyroxine               3103 non-null   object\n",
      " 3   query on thyroxine         3103 non-null   object\n",
      " 4   on antithyroid medication  3103 non-null   object\n",
      " 5   sick                       3103 non-null   object\n",
      " 6   pregnant                   3103 non-null   object\n",
      " 7   thyroid surgery            3103 non-null   object\n",
      " 8   I131 treatment             3103 non-null   object\n",
      " 9   query hypothyroid          3103 non-null   object\n",
      " 10  query hyperthyroid         3103 non-null   object\n",
      " 11  lithium                    3103 non-null   object\n",
      " 12  goitre                     3103 non-null   object\n",
      " 13  tumor                      3103 non-null   object\n",
      " 14  hypopituitary              3103 non-null   object\n",
      " 15  psych                      3103 non-null   object\n",
      " 16  TSH                        3103 non-null   object\n",
      " 17  TT4                        3103 non-null   object\n",
      " 18  T4U                        3103 non-null   object\n",
      " 19  FTI                        3103 non-null   object\n",
      " 20  binaryClass                3103 non-null   object\n",
      "dtypes: object(21)\n",
      "memory usage: 533.3+ KB\n"
     ]
    }
   ],
   "source": [
    "hypo_clean.info()"
   ]
  },
  {
   "cell_type": "code",
   "execution_count": 69,
   "id": "0bfe4058-ecf8-411d-b6c4-b118b73863d9",
   "metadata": {},
   "outputs": [
    {
     "name": "stderr",
     "output_type": "stream",
     "text": [
      "/var/folders/h6/_rz_hgwd06q2j4rsml2mr9yr0000gn/T/ipykernel_71721/2488288775.py:6: SettingWithCopyWarning: \n",
      "A value is trying to be set on a copy of a slice from a DataFrame.\n",
      "Try using .loc[row_indexer,col_indexer] = value instead\n",
      "\n",
      "See the caveats in the documentation: https://pandas.pydata.org/pandas-docs/stable/user_guide/indexing.html#returning-a-view-versus-a-copy\n",
      "  hypo_clean[num_cols] = hypo_clean[num_cols].apply(pd.to_numeric, errors='coerce', axis=1)\n",
      "/var/folders/h6/_rz_hgwd06q2j4rsml2mr9yr0000gn/T/ipykernel_71721/2488288775.py:8: SettingWithCopyWarning: \n",
      "A value is trying to be set on a copy of a slice from a DataFrame.\n",
      "Try using .loc[row_indexer,col_indexer] = value instead\n",
      "\n",
      "See the caveats in the documentation: https://pandas.pydata.org/pandas-docs/stable/user_guide/indexing.html#returning-a-view-versus-a-copy\n",
      "  hypo_clean[col] = hypo_clean[col].astype('category')\n",
      "/var/folders/h6/_rz_hgwd06q2j4rsml2mr9yr0000gn/T/ipykernel_71721/2488288775.py:8: SettingWithCopyWarning: \n",
      "A value is trying to be set on a copy of a slice from a DataFrame.\n",
      "Try using .loc[row_indexer,col_indexer] = value instead\n",
      "\n",
      "See the caveats in the documentation: https://pandas.pydata.org/pandas-docs/stable/user_guide/indexing.html#returning-a-view-versus-a-copy\n",
      "  hypo_clean[col] = hypo_clean[col].astype('category')\n",
      "/var/folders/h6/_rz_hgwd06q2j4rsml2mr9yr0000gn/T/ipykernel_71721/2488288775.py:8: SettingWithCopyWarning: \n",
      "A value is trying to be set on a copy of a slice from a DataFrame.\n",
      "Try using .loc[row_indexer,col_indexer] = value instead\n",
      "\n",
      "See the caveats in the documentation: https://pandas.pydata.org/pandas-docs/stable/user_guide/indexing.html#returning-a-view-versus-a-copy\n",
      "  hypo_clean[col] = hypo_clean[col].astype('category')\n"
     ]
    }
   ],
   "source": [
    "## Changing Dtype of the columns to numeric/categorical \n",
    "num_cols = ['age', 'TSH', 'TT4', 'T4U', 'FTI']\n",
    "cat_cols = ['sex', 'on thyroxine', 'query on thyroxine', 'on antithyroid medication', 'sick', 'pregnant', 'thyroid surgery',\n",
    "            'I131 treatment', 'query hypothyroid', 'query hyperthyroid', 'lithium', 'goitre', 'tumor', 'psych', 'binaryClass',\n",
    "           'hypopituitary']\n",
    "hypo_clean[num_cols] = hypo_clean[num_cols].apply(pd.to_numeric, errors='coerce', axis=1)\n",
    "for col in cat_cols:\n",
    "    hypo_clean[col] = hypo_clean[col].astype('category')"
   ]
  },
  {
   "cell_type": "code",
   "execution_count": 70,
   "id": "6181fa66-d143-450c-bbb4-9a8451d1d878",
   "metadata": {},
   "outputs": [
    {
     "name": "stdout",
     "output_type": "stream",
     "text": [
      "<class 'pandas.core.frame.DataFrame'>\n",
      "Int64Index: 3103 entries, 0 to 3771\n",
      "Data columns (total 21 columns):\n",
      " #   Column                     Non-Null Count  Dtype   \n",
      "---  ------                     --------------  -----   \n",
      " 0   age                        3103 non-null   float64 \n",
      " 1   sex                        3103 non-null   category\n",
      " 2   on thyroxine               3103 non-null   category\n",
      " 3   query on thyroxine         3103 non-null   category\n",
      " 4   on antithyroid medication  3103 non-null   category\n",
      " 5   sick                       3103 non-null   category\n",
      " 6   pregnant                   3103 non-null   category\n",
      " 7   thyroid surgery            3103 non-null   category\n",
      " 8   I131 treatment             3103 non-null   category\n",
      " 9   query hypothyroid          3103 non-null   category\n",
      " 10  query hyperthyroid         3103 non-null   category\n",
      " 11  lithium                    3103 non-null   category\n",
      " 12  goitre                     3103 non-null   category\n",
      " 13  tumor                      3103 non-null   category\n",
      " 14  hypopituitary              3103 non-null   category\n",
      " 15  psych                      3103 non-null   category\n",
      " 16  TSH                        3103 non-null   float64 \n",
      " 17  TT4                        3103 non-null   float64 \n",
      " 18  T4U                        3103 non-null   float64 \n",
      " 19  FTI                        3103 non-null   float64 \n",
      " 20  binaryClass                3103 non-null   category\n",
      "dtypes: category(16), float64(5)\n",
      "memory usage: 195.9 KB\n"
     ]
    }
   ],
   "source": [
    "hypo_clean.info()"
   ]
  },
  {
   "cell_type": "code",
   "execution_count": 78,
   "id": "ff7f69a6-7e17-4c1d-adb5-8bd3e61fd7c4",
   "metadata": {},
   "outputs": [
    {
     "name": "stdout",
     "output_type": "stream",
     "text": [
      "Figure 1: Correlations of numeric features\n"
     ]
    },
    {
     "data": {
      "image/png": "[encoded data removed]",
      "text/plain": [
       "<Figure size 2000x1000 with 2 Axes>"
      ]
     },
     "metadata": {},
     "output_type": "display_data"
    }
   ],
   "source": [
    "## Visualizing correlations of numeric features\n",
    "print(\"Figure 1: Correlations of numeric features\")\n",
    "numeric = hypo_clean[['age', 'TSH', 'TT4', 'T4U', 'FTI']]\n",
    "cor = numeric.corr()\n",
    "plt.figure(figsize=(20, 10))\n",
    "sn.set(font_scale=1)\n",
    "sn.heatmap(cor, annot=True, cmap=plt.cm.Blues);"
   ]
  },
  {
   "cell_type": "code",
   "execution_count": 77,
   "id": "378a5b9e-7328-4132-a1ea-58bd8bd5aa33",
   "metadata": {},
   "outputs": [
    {
     "name": "stdout",
     "output_type": "stream",
     "text": [
      "Figure 2: Realization of class counts\n"
     ]
    },
    {
     "data": {
      "text/html": [
       "<div>\n",
       "<style scoped>\n",
       "    .dataframe tbody tr th:only-of-type {\n",
       "        vertical-align: middle;\n",
       "    }\n",
       "\n",
       "    .dataframe tbody tr th {\n",
       "        vertical-align: top;\n",
       "    }\n",
       "\n",
       "    .dataframe thead th {\n",
       "        text-align: right;\n",
       "    }\n",
       "</style>\n",
       "<table border=\"1\" class=\"dataframe\">\n",
       "  <thead>\n",
       "    <tr style=\"text-align: right;\">\n",
       "      <th></th>\n",
       "      <th>binaryClass</th>\n",
       "    </tr>\n",
       "  </thead>\n",
       "  <tbody>\n",
       "    <tr>\n",
       "      <th>P</th>\n",
       "      <td>2845</td>\n",
       "    </tr>\n",
       "    <tr>\n",
       "      <th>N</th>\n",
       "      <td>258</td>\n",
       "    </tr>\n",
       "  </tbody>\n",
       "</table>\n",
       "</div>"
      ],
      "text/plain": [
       "   binaryClass\n",
       "P         2845\n",
       "N          258"
      ]
     },
     "execution_count": 77,
     "metadata": {},
     "output_type": "execute_result"
    }
   ],
   "source": [
    "print(\"Figure 2: Realization of class counts\")\n",
    "pd.DataFrame(hypo_clean['binaryClass'].value_counts())"
   ]
  },
  {
   "cell_type": "code",
   "execution_count": null,
   "id": "2dc83fea-bfa3-4e18-b244-fbc797477072",
   "metadata": {},
   "outputs": [],
   "source": []
  }
 ],
 "metadata": {
  "kernelspec": {
   "display_name": "Python 3 (ipykernel)",
   "language": "python",
   "name": "python3"
  },
  "language_info": {
   "codemirror_mode": {
    "name": "ipython",
    "version": 3
   },
   "file_extension": ".py",
   "mimetype": "text/x-python",
   "name": "python",
   "nbconvert_exporter": "python",
   "pygments_lexer": "ipython3",
   "version": "3.10.8"
  }
 },
 "nbformat": 4,
 "nbformat_minor": 5
}
