{
 "cells": [
  {
   "cell_type": "markdown",
   "id": "3ce2bad5-be59-4a86-ac43-8e77441e24ee",
   "metadata": {},
   "source": [
    "# Analysis"
   ]
  },
  {
   "cell_type": "markdown",
   "id": "71c3a5a8-d191-4921-8e4c-bfbb4b492bbb",
   "metadata": {
    "user_expressions": []
   },
   "source": [
    "```{tableofcontents}\n",
    "```"
   ]
  },
  {
   "cell_type": "markdown",
   "id": "f7faa4d4-ff24-4446-926d-608861d89591",
   "metadata": {},
   "source": [
    "## Summary\n",
    "In this report, we trained a classifier to predict the presence of hyperthyroidism using varying attributes such as age, sex, prior treatment for thyroid disease, and amount of thyroid hormones in the body. Our classifier has a 98% accuracy rate on the test set."
   ]
  },
  {
   "cell_type": "markdown",
   "id": "835be52d-09cd-43a7-ada8-8114ae91d176",
   "metadata": {},
   "source": [
    "## Introduction\n",
    "The **Thyroid Disease dataset** obtained from the **UCI Machine Learning Repository** will be used to predict the presence of hyperthyroidism. Hyperthyroidism is an issue that occurs when the thyroid gland produces an excess amount of thyroid hormones (De Leo et al., 2016). As a result, the body's metabolism greatly \"speeds up\", resulting in weight loss, rapid heartbeat, fatigue, shaky hands, sweating, and more (U.S. Department of Health and Human Services, n.d.). \n",
    "<br>\n",
    "Studies have shown that within the population, certain groups are more predisposed to getting hyperthyroidism. Hyperthyroidism is more common in women, women who were recently pregnant, those with type 1 or type 2 diabetes, alongside other factors (Allahabadia, 2000). In order to help predict whether someone has hyperthyroidism, we are using 19 attributes provided from the Thyroid Disease dataset. The attributes we are using are age, sex, if they take medication for thyroid disease (thyroxine or antithyroid medication), pregnant status, prior treatment for thyroid disease (thyroid surgery or Ii131 radiotherapy for hyperthyroidism), and amount of different hormones in the body (TSH, TT4, T4U, and FTI). **With these factors, we are hoping to make an accurate classifier in to predict whether or not someone has hyperthyroidism.**"
   ]
  },
  {
   "cell_type": "markdown",
   "id": "08994872-aeba-4178-ad5b-b850512fe8d4",
   "metadata": {},
   "source": [
    "## Methods and Results"
   ]
  },
  {
   "cell_type": "markdown",
   "id": "917a88cf-082c-4943-ac73-f5d57d24aafe",
   "metadata": {},
   "source": [
    "### Data-Cleaning\n",
    "To begin this analysis we read in the data from the original source, merging **solely** for pre-processing. The `binaryClass` feature is manipulated so that all values are either positive or negative, removing all other diagnoses. Next, we replace all `?` values with `NaN` values, and removed all columns that were irrelevant to our classification model or had an extremely large amount of `NaN` values. We then remove all of the remaining rows with NA values from the data set. Since all of the columns are of datatype `Object`, they are converted to their respective data-types (either numeric or categorical). Following this we converted the `binaryClass` column from character values (\"P\" and \"N\") to the reverse in boolean integer values (\"0\" and \"1\" respectively) to match the classification model. In this data set positive labels actually represented a negative diagnosis.\n",
    "### Exploratory Data Analysis\n",
    "After data-cleaning we preformed exploratory data analysis (EDA) through summary statistics, correlations of numeric features, and value counts for the entire data set. \n",
    "### Model Training\n",
    "We split the data into training and testing set with a 70/30 split, while also separating the `binaryClass` feature (**target**) from the rest of the data set. Following this a `ColumnTransformer` was created to scale all numeric variables and one-hot-encode all categorical variables to ensure they are in a state that the model can process. The `ColumnTransformer` was then fitted and transformed on the training set, along with transforming the test set. We then performed cross-validation with a LogisticRegression model on the training data, which returned an average validation score of 98%. Applying the model again to the full training set, we again produced a 98% accuracy score. Furthermote, we visualized the training predictions with `TSH` and `TT4` concentrations on the x and y axes respectively. Finally, **The model was applied to the test set, which produced a 99% accuracy**. Another plot visualizing the class predictions were created along with a confusion matrix to realize the impact of the predictions. From the confusion matrix we can see that most of our incorrect predictions are false negatives, which are not preferable as an incorrect positive disease diagnose would have less consequential impact than an incorrectly predicting some as disease free."
   ]
  },
  {
   "cell_type": "markdown",
   "id": "12bf4cfe-51ef-4f04-8aee-650e15fa9ccd",
   "metadata": {},
   "source": [
    "## Exploratory Data Analysis"
   ]
  },
  {
   "cell_type": "markdown",
   "id": "fa39f5f2-0096-45e7-9486-69b11a5e3706",
   "metadata": {},
   "source": [
    ":::{figure-md} data-described\n",
    "<img src=\"../results/data_described.png\" width = \"1000px\" height = \"300px\">\n",
    "\n",
    "Summary Statistics of the dataframe\n",
    ":::"
   ]
  },
  {
   "cell_type": "markdown",
   "id": "78ddad96-4405-48fe-a726-48809411e25e",
   "metadata": {},
   "source": [
    ":::{figure-md} correlation\n",
    "<img src=\"../results/correlation_of_numeric_features.png\" width = \"1000px\" height = \"300px\">\n",
    "\n",
    "Correlation of Numeric Features\n",
    ":::"
   ]
  },
  {
   "cell_type": "markdown",
   "id": "736060a7-e49f-4340-82fa-18ed0d117913",
   "metadata": {},
   "source": [
    "## Model Training and Analysis"
   ]
  },
  {
   "cell_type": "markdown",
   "id": "a8338d4f-c830-44dd-be62-3c9999fbd3ab",
   "metadata": {},
   "source": [
    ":::{figure-md} TSH-vs-TT4-train\n",
    "<img src=\"../results/TSH_vs_TT4_concentration_training_set.png\" width = \"1000px\" height = \"300px\">\n",
    "\n",
    "TSH vs TT4 concentration with classified points for the training set\n",
    ":::"
   ]
  },
  {
   "cell_type": "markdown",
   "id": "bbc96cb8-6e9b-47a3-8fb3-0800a5de3c84",
   "metadata": {},
   "source": [
    ":::{figure-md} TSH-vs-TT4-test\n",
    "<img src=\"../results/TSH_vs_TT4_concentration_test_set.png\" width = \"1000px\" height = \"300px\">\n",
    "\n",
    "TSH vs TT4 concentration with classified points for the test set\n",
    ":::"
   ]
  },
  {
   "cell_type": "markdown",
   "id": "48e3edf9-e306-4664-8273-a385a6ec3c85",
   "metadata": {},
   "source": [
    ":::{figure-md} confusion-matrix\n",
    "<img src=\"../results/confusion_matrix.png\" width = \"1000px\" height = \"300px\">\n",
    "\n",
    "Confusion Matrix for the classifier with 0 as negative and 1 as positive\n",
    ":::"
   ]
  },
  {
   "cell_type": "markdown",
   "id": "c076e33d-0a1c-4246-9b4d-4e01c3974aca",
   "metadata": {
    "user_expressions": []
   },
   "source": [
    "## Discussion\n",
    "The model we trained has a 98% accuracy when tested on a test set. As we were provided by a plethora of measurements specific to thyroid hormones tied to hyperthyroidism, we expected to be able to train a classifier with a high level of accuracy. We believe that this model could act as a further test to backup a doctor's medical opinion for hyperthyroidism. Additionally, due to the lower analysis cost of prediction, this could potentially be an easy resource for people to self-test for the disease. Currently, there are at-home thyroid tests you can administer to measure thyroid hormone levels. By lowering the barrier of entry, more potential hyperthyroidism patients can detect their diseases early on instead of waiting for a medical appointment. A future project could be to model hyperthyroidism disease progression over time. Thyroid hormone levels exist on a spectrum, and simply saying someone has hyperthyroidism or hypothyroidism is severely oversimplifying the disease. Additionally, other projects could look if the dataset holds out in a modern setting. The dataset was published in 1987 and it has been studied that hyperthyroidism increased between 1987 and 1995 due to an increase in salt in food {cite}`Mostbeck et al., 1998`."
   ]
  },
  {
   "cell_type": "markdown",
   "id": "0df61bd6-8434-4960-bbad-8b8ce6ebe6ae",
   "metadata": {},
   "source": [
    "## Bibliography"
   ]
  },
  {
   "cell_type": "markdown",
   "id": "9e97e286-8e49-4f29-b047-d65304b98466",
   "metadata": {
    "user_expressions": []
   },
   "source": [
    "```{bibliography}\n",
    "```"
   ]
  },
  {
   "cell_type": "code",
   "execution_count": null,
   "id": "8e660c79-14d0-4414-b21c-942cc89c7fbe",
   "metadata": {},
   "outputs": [],
   "source": []
  }
 ],
 "metadata": {
  "kernelspec": {
   "display_name": "Python 3 (ipykernel)",
   "language": "python",
   "name": "python3"
  },
  "language_info": {
   "codemirror_mode": {
    "name": "ipython",
    "version": 3
   },
   "file_extension": ".py",
   "mimetype": "text/x-python",
   "name": "python",
   "nbconvert_exporter": "python",
   "pygments_lexer": "ipython3",
   "version": "3.10.8"
  }
 },
 "nbformat": 4,
 "nbformat_minor": 5
}
